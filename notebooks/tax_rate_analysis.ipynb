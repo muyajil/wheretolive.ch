{
 "cells": [
  {
   "cell_type": "code",
   "execution_count": null,
   "metadata": {},
   "outputs": [],
   "source": [
    "import pandas as pd\n",
    "import psycopg2 as pg\n",
    "import pandas.io.sql as psql\n",
    "from sklearn.model_selection import train_test_split, GridSearchCV\n",
    "from sklearn.svm import SVR\n",
    "from sklearn.metrics import mean_squared_error, r2_score, mean_absolute_error\n",
    "import numpy as np"
   ]
  },
  {
   "cell_type": "code",
   "execution_count": null,
   "metadata": {},
   "outputs": [],
   "source": [
    "db_conn = pg.connect(\n",
    "    dbname=\"wheretolive\",\n",
    "    user=\"wheretolive\",\n",
    "    password=\"wheretolive\",\n",
    "    host=\"127.0.0.1\")"
   ]
  },
  {
   "cell_type": "code",
   "execution_count": null,
   "metadata": {},
   "outputs": [],
   "source": [
    "sql_query = \"\"\"\n",
    "select bfs_nr_state.state, s.bfs_nr, s.min_income, s.rate as s_rate, m0c.rate as m0c_rate, m2c.rate as m2c_rate, m2c2s.rate as m2c2s_rate from\n",
    "(select * from tax_rate\n",
    "where profile = 'single') as s\n",
    "join\n",
    "(select * from tax_rate\n",
    "where profile = 'married_no_children') as m0c\n",
    "on m0c.bfs_nr = s.bfs_nr and m0c.min_income = s.min_income and m0c.max_income = s.max_income\n",
    "join\n",
    "(select * from tax_rate\n",
    "where profile = 'married_2_children') as m2c\n",
    "on m2c.bfs_nr = s.bfs_nr and m2c.min_income = s.min_income and m2c.max_income = s.max_income\n",
    "join\n",
    "(select * from tax_rate\n",
    "where profile = 'married_2_children_2_salaries') as m2c2s\n",
    "on m2c2s.bfs_nr = s.bfs_nr and m2c2s.min_income = s.min_income and m2c2s.max_income = s.max_income\n",
    "join \n",
    "(select distinct bfs_nr, state from town) as bfs_nr_state\n",
    "on bfs_nr_state.bfs_nr = s.bfs_nr\n",
    "order by s.bfs_nr, s.min_income\n",
    "\"\"\""
   ]
  },
  {
   "cell_type": "code",
   "execution_count": null,
   "metadata": {},
   "outputs": [],
   "source": [
    "df = pd.read_sql(sql_query, db_conn)\n",
    "df.head()"
   ]
  },
  {
   "cell_type": "code",
   "execution_count": null,
   "metadata": {},
   "outputs": [],
   "source": [
    "df['2c_effect'] = df['m2c_rate'] - df['m0c_rate']\n",
    "df['m_effect'] = df['m0c_rate'] - df['s_rate']\n",
    "df['2s_effect'] = df['m2c2s_rate'] - df['m2c_rate']\n",
    "df.head(n=24)"
   ]
  },
  {
   "cell_type": "code",
   "execution_count": null,
   "metadata": {},
   "outputs": [],
   "source": [
    "df_effects = df.groupby(by=['min_income', 'state']).agg(\n",
    "    {\n",
    "        \"2c_effect\": [np.mean, np.std, np.var],\n",
    "        \"m_effect\": [np.mean, np.std, np.var],\n",
    "        \"2s_effect\": [np.mean, np.std, np.var]\n",
    "    })\n",
    "df_effects.head(n=24)"
   ]
  },
  {
   "cell_type": "code",
   "execution_count": null,
   "metadata": {},
   "outputs": [],
   "source": [
    "effects = set(df_effects.columns.get_level_values(0))\n",
    "states = set(df_effects.index.get_level_values(1))\n",
    "incomes = set(df_effects.index.get_level_values(0))\n",
    "for effect in effects:\n",
    "    for state in states:\n",
    "        for min_income in incomes:\n",
    "            df.loc[(df.min_income == min_income) & (df.state == state) , effect + '_est'] = df_effects[effect]['mean'][min_income][state]\n",
    "df.head(n=24)"
   ]
  },
  {
   "cell_type": "code",
   "execution_count": null,
   "metadata": {},
   "outputs": [],
   "source": [
    "effects = set(df_effects.columns.get_level_values(0))\n",
    "for effect in effects:\n",
    "    mae = mean_absolute_error(df[effect], df[effect + '_est'])\n",
    "    mse = mean_squared_error(df[effect], df[effect + '_est'])\n",
    "    r2 = r2_score(df[effect], df[effect + '_est'])\n",
    "    print('{}:\\tMAE: {:.2f}\\tMSE: {:.2f}\\tR2: {:.2f}'.format(effect, mae, mse, r2))"
   ]
  },
  {
   "cell_type": "code",
   "execution_count": null,
   "metadata": {},
   "outputs": [],
   "source": [
    "#Sanity Check m2c_effect\n",
    "df['m2c_effect'] = df['m2c_rate'] - df['s_rate']\n",
    "df['m2c_effect_est'] = df['2c_effect_est'] + df['m_effect_est']\n",
    "mae = mean_absolute_error(df['m2c_effect'], df['m2c_effect_est'])\n",
    "mse = mean_squared_error(df['m2c_effect'], df['m2c_effect_est'])\n",
    "r2 = r2_score(df['m2c_effect'], df['m2c_effect_est'])\n",
    "print('m2c_effect:\\tMAE: {:.2f}\\tMSE: {:.2f}\\tR2: {:.2f}'.format(mae, mse, r2))"
   ]
  },
  {
   "cell_type": "code",
   "execution_count": null,
   "metadata": {},
   "outputs": [],
   "source": [
    "#Sanity Check m2c2s_effect\n",
    "df['m2c2s_effect'] = df['m2c2s_rate'] - df['s_rate']\n",
    "df['m2c2s_effect_est'] = df['2c_effect_est'] + df['m_effect_est'] + df['2s_effect_est']\n",
    "mae = mean_absolute_error(df['m2c2s_effect'], df['m2c2s_effect_est'])\n",
    "mse = mean_squared_error(df['m2c2s_effect'], df['m2c2s_effect_est'])\n",
    "r2 = r2_score(df['m2c2s_effect'], df['m2c2s_effect_est'])\n",
    "print('m2c2s_effect:\\tMAE: {:.2f}\\tMSE: {:.2f}\\tR2: {:.2f}'.format(mae, mse, r2))"
   ]
  }
 ],
 "metadata": {
  "kernelspec": {
   "display_name": "",
   "language": "python",
   "name": ""
  },
  "language_info": {
   "codemirror_mode": {
    "name": "ipython",
    "version": 3
   },
   "file_extension": ".py",
   "mimetype": "text/x-python",
   "name": "python",
   "nbconvert_exporter": "python",
   "pygments_lexer": "ipython3",
   "version": "3.8.2"
  }
 },
 "nbformat": 4,
 "nbformat_minor": 4
}