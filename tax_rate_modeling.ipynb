{
 "cells": [
  {
   "cell_type": "code",
   "execution_count": 41,
   "metadata": {},
   "outputs": [],
   "source": [
    "import pandas as pd\n",
    "import psycopg2 as pg\n",
    "import pandas.io.sql as psql\n",
    "from sklearn.model_selection import train_test_split, GridSearchCV\n",
    "from sklearn.svm import SVR\n",
    "from sklearn.metrics import mean_squared_error, r2_score"
   ]
  },
  {
   "cell_type": "code",
   "execution_count": 4,
   "metadata": {},
   "outputs": [],
   "source": [
    "db_conn = pg.connect(\n",
    "    dbname=\"wheretolive\",\n",
    "    user=\"wheretolive\",\n",
    "    password=\"wheretolive\",\n",
    "    host=\"127.0.0.1\")"
   ]
  },
  {
   "cell_type": "code",
   "execution_count": 17,
   "metadata": {},
   "outputs": [],
   "source": [
    "sql_query = \"\"\"\n",
    "select s.bfs_nr, s.min_income, s.rate as s_rate, m0c.rate as m0c_rate, m2c.rate as m2c_rate, m2c2s.rate as m2c2s_rate from\n",
    "(select * from tax_rate\n",
    "where profile = 'single') as s\n",
    "join\n",
    "(select * from tax_rate\n",
    "where profile = 'married_no_children') as m0c\n",
    "on m0c.bfs_nr = s.bfs_nr and m0c.min_income = s.min_income and m0c.max_income = s.max_income\n",
    "join\n",
    "(select * from tax_rate\n",
    "where profile = 'married_2_children') as m2c\n",
    "on m2c.bfs_nr = s.bfs_nr and m2c.min_income = s.min_income and m2c.max_income = s.max_income\n",
    "join\n",
    "(select * from tax_rate\n",
    "where profile = 'married_2_children_2_salaries') as m2c2s\n",
    "on m2c2s.bfs_nr = s.bfs_nr and m2c2s.min_income = s.min_income and m2c2s.max_income = s.max_income\n",
    "order by s.bfs_nr, s.min_income\n",
    "\"\"\"\n",
    "\n",
    "sql_query = \"\"\"\n",
    "select bfs_nr, profile, min_income, rate from tax_rate\n",
    "order by bfs_nr, profile, min_income\n",
    "\"\"\""
   ]
  },
  {
   "cell_type": "code",
   "execution_count": 18,
   "metadata": {},
   "outputs": [],
   "source": [
    "df = pd.read_sql(sql_query, db_conn)"
   ]
  },
  {
   "cell_type": "code",
   "execution_count": 26,
   "metadata": {},
   "outputs": [
    {
     "data": {
      "text/html": [
       "<div>\n",
       "<style scoped>\n",
       "    .dataframe tbody tr th:only-of-type {\n",
       "        vertical-align: middle;\n",
       "    }\n",
       "\n",
       "    .dataframe tbody tr th {\n",
       "        vertical-align: top;\n",
       "    }\n",
       "\n",
       "    .dataframe thead th {\n",
       "        text-align: right;\n",
       "    }\n",
       "</style>\n",
       "<table border=\"1\" class=\"dataframe\">\n",
       "  <thead>\n",
       "    <tr style=\"text-align: right;\">\n",
       "      <th></th>\n",
       "      <th>bfs_nr</th>\n",
       "      <th>min_income</th>\n",
       "      <th>rate</th>\n",
       "      <th>children</th>\n",
       "      <th>salaries</th>\n",
       "      <th>num_taxed</th>\n",
       "    </tr>\n",
       "  </thead>\n",
       "  <tbody>\n",
       "    <tr>\n",
       "      <th>0</th>\n",
       "      <td>1</td>\n",
       "      <td>12500</td>\n",
       "      <td>0.384000</td>\n",
       "      <td>2</td>\n",
       "      <td>1</td>\n",
       "      <td>2</td>\n",
       "    </tr>\n",
       "    <tr>\n",
       "      <th>1</th>\n",
       "      <td>1</td>\n",
       "      <td>15000</td>\n",
       "      <td>0.320000</td>\n",
       "      <td>2</td>\n",
       "      <td>1</td>\n",
       "      <td>2</td>\n",
       "    </tr>\n",
       "    <tr>\n",
       "      <th>2</th>\n",
       "      <td>1</td>\n",
       "      <td>17500</td>\n",
       "      <td>0.274286</td>\n",
       "      <td>2</td>\n",
       "      <td>1</td>\n",
       "      <td>2</td>\n",
       "    </tr>\n",
       "    <tr>\n",
       "      <th>3</th>\n",
       "      <td>1</td>\n",
       "      <td>20000</td>\n",
       "      <td>0.240000</td>\n",
       "      <td>2</td>\n",
       "      <td>1</td>\n",
       "      <td>2</td>\n",
       "    </tr>\n",
       "    <tr>\n",
       "      <th>4</th>\n",
       "      <td>1</td>\n",
       "      <td>25000</td>\n",
       "      <td>0.192000</td>\n",
       "      <td>2</td>\n",
       "      <td>1</td>\n",
       "      <td>2</td>\n",
       "    </tr>\n",
       "    <tr>\n",
       "      <th>...</th>\n",
       "      <td>...</td>\n",
       "      <td>...</td>\n",
       "      <td>...</td>\n",
       "      <td>...</td>\n",
       "      <td>...</td>\n",
       "      <td>...</td>\n",
       "    </tr>\n",
       "    <tr>\n",
       "      <th>195</th>\n",
       "      <td>3</td>\n",
       "      <td>20000</td>\n",
       "      <td>0.240000</td>\n",
       "      <td>2</td>\n",
       "      <td>1</td>\n",
       "      <td>2</td>\n",
       "    </tr>\n",
       "    <tr>\n",
       "      <th>196</th>\n",
       "      <td>3</td>\n",
       "      <td>25000</td>\n",
       "      <td>0.192000</td>\n",
       "      <td>2</td>\n",
       "      <td>1</td>\n",
       "      <td>2</td>\n",
       "    </tr>\n",
       "    <tr>\n",
       "      <th>197</th>\n",
       "      <td>3</td>\n",
       "      <td>30000</td>\n",
       "      <td>0.160000</td>\n",
       "      <td>2</td>\n",
       "      <td>1</td>\n",
       "      <td>2</td>\n",
       "    </tr>\n",
       "    <tr>\n",
       "      <th>198</th>\n",
       "      <td>3</td>\n",
       "      <td>35000</td>\n",
       "      <td>0.137143</td>\n",
       "      <td>2</td>\n",
       "      <td>1</td>\n",
       "      <td>2</td>\n",
       "    </tr>\n",
       "    <tr>\n",
       "      <th>199</th>\n",
       "      <td>3</td>\n",
       "      <td>40000</td>\n",
       "      <td>0.131050</td>\n",
       "      <td>2</td>\n",
       "      <td>1</td>\n",
       "      <td>2</td>\n",
       "    </tr>\n",
       "  </tbody>\n",
       "</table>\n",
       "<p>200 rows × 6 columns</p>\n",
       "</div>"
      ],
      "text/plain": [
       "     bfs_nr  min_income      rate  children  salaries  num_taxed\n",
       "0         1       12500  0.384000         2         1          2\n",
       "1         1       15000  0.320000         2         1          2\n",
       "2         1       17500  0.274286         2         1          2\n",
       "3         1       20000  0.240000         2         1          2\n",
       "4         1       25000  0.192000         2         1          2\n",
       "..      ...         ...       ...       ...       ...        ...\n",
       "195       3       20000  0.240000         2         1          2\n",
       "196       3       25000  0.192000         2         1          2\n",
       "197       3       30000  0.160000         2         1          2\n",
       "198       3       35000  0.137143         2         1          2\n",
       "199       3       40000  0.131050         2         1          2\n",
       "\n",
       "[200 rows x 6 columns]"
      ]
     },
     "execution_count": 26,
     "metadata": {},
     "output_type": "execute_result"
    }
   ],
   "source": [
    "df['children'] = df['profile'].map(lambda x: 2 if '2_children' in x else 0)\n",
    "df['salaries'] = df['profile'].map(lambda x: 2 if '2_salaries' in x else 1)\n",
    "df['num_taxed'] = df['profile'].map(lambda x: 2 if 'married' in x else 1)\n",
    "df = df.drop(['profile'], axis=1)"
   ]
  },
  {
   "cell_type": "code",
   "execution_count": 29,
   "metadata": {},
   "outputs": [],
   "source": [
    "X_train, X_test, y_train, y_test = train_test_split(df[['bfs_nr', 'min_income', 'children', 'salaries', 'num_taxed']], df['rate'], test_size=0.2, random_state=0)"
   ]
  },
  {
   "cell_type": "code",
   "execution_count": 30,
   "metadata": {},
   "outputs": [
    {
     "data": {
      "text/html": [
       "<div>\n",
       "<style scoped>\n",
       "    .dataframe tbody tr th:only-of-type {\n",
       "        vertical-align: middle;\n",
       "    }\n",
       "\n",
       "    .dataframe tbody tr th {\n",
       "        vertical-align: top;\n",
       "    }\n",
       "\n",
       "    .dataframe thead th {\n",
       "        text-align: right;\n",
       "    }\n",
       "</style>\n",
       "<table border=\"1\" class=\"dataframe\">\n",
       "  <thead>\n",
       "    <tr style=\"text-align: right;\">\n",
       "      <th></th>\n",
       "      <th>bfs_nr</th>\n",
       "      <th>min_income</th>\n",
       "      <th>children</th>\n",
       "      <th>salaries</th>\n",
       "      <th>num_taxed</th>\n",
       "    </tr>\n",
       "  </thead>\n",
       "  <tbody>\n",
       "    <tr>\n",
       "      <th>2971</th>\n",
       "      <td>37</td>\n",
       "      <td>250000</td>\n",
       "      <td>0</td>\n",
       "      <td>1</td>\n",
       "      <td>1</td>\n",
       "    </tr>\n",
       "    <tr>\n",
       "      <th>53157</th>\n",
       "      <td>1081</td>\n",
       "      <td>400000</td>\n",
       "      <td>0</td>\n",
       "      <td>1</td>\n",
       "      <td>2</td>\n",
       "    </tr>\n",
       "    <tr>\n",
       "      <th>163939</th>\n",
       "      <td>5487</td>\n",
       "      <td>250000</td>\n",
       "      <td>0</td>\n",
       "      <td>1</td>\n",
       "      <td>2</td>\n",
       "    </tr>\n",
       "    <tr>\n",
       "      <th>41456</th>\n",
       "      <td>867</td>\n",
       "      <td>45000</td>\n",
       "      <td>0</td>\n",
       "      <td>1</td>\n",
       "      <td>1</td>\n",
       "    </tr>\n",
       "    <tr>\n",
       "      <th>71616</th>\n",
       "      <td>2183</td>\n",
       "      <td>12500</td>\n",
       "      <td>2</td>\n",
       "      <td>1</td>\n",
       "      <td>2</td>\n",
       "    </tr>\n",
       "  </tbody>\n",
       "</table>\n",
       "</div>"
      ],
      "text/plain": [
       "        bfs_nr  min_income  children  salaries  num_taxed\n",
       "2971        37      250000         0         1          1\n",
       "53157     1081      400000         0         1          2\n",
       "163939    5487      250000         0         1          2\n",
       "41456      867       45000         0         1          1\n",
       "71616     2183       12500         2         1          2"
      ]
     },
     "execution_count": 30,
     "metadata": {},
     "output_type": "execute_result"
    }
   ],
   "source": [
    "X_train.head()"
   ]
  },
  {
   "cell_type": "code",
   "execution_count": null,
   "metadata": {},
   "outputs": [
    {
     "name": "stdout",
     "output_type": "stream",
     "text": [
      "Fitting 5 folds for each of 3 candidates, totalling 15 fits\n",
      "[Parallel(n_jobs=4)]: Using backend LokyBackend with 4 concurrent workers.\n",
      "[Parallel(n_jobs=4)]: Done   1 tasks      | elapsed: 36.9min\n",
      "[Parallel(n_jobs=4)]: Done   2 tasks      | elapsed: 52.7min\n",
      "[Parallel(n_jobs=4)]: Done   3 tasks      | elapsed: 53.3min\n",
      "[Parallel(n_jobs=4)]: Done   4 tasks      | elapsed: 58.3min\n",
      "[Parallel(n_jobs=4)]: Done   5 tasks      | elapsed: 71.4min\n",
      "[Parallel(n_jobs=4)]: Done   6 tasks      | elapsed: 92.5min\n",
      "[Parallel(n_jobs=4)]: Done   7 tasks      | elapsed: 99.6min\n"
     ]
    }
   ],
   "source": [
    "param_grid = {\n",
    "    'kernel': ['rbf'],\n",
    "    'C': [0.1, 1, 10],\n",
    "    'epsilon': [0.1]\n",
    "}\n",
    "svr = SVR()\n",
    "grid_search = GridSearchCV(\n",
    "    estimator=svr,\n",
    "    param_grid=param_grid,\n",
    "    scoring=['r2', 'neg_mean_squared_error'],\n",
    "    n_jobs=4,\n",
    "    pre_dispatch=6,\n",
    "    refit='r2',\n",
    "    verbose=50)\n",
    "grid_search = grid_search.fit(X_train, y_train)"
   ]
  },
  {
   "cell_type": "code",
   "execution_count": 33,
   "metadata": {},
   "outputs": [],
   "source": [
    "clf = grid_search.best_estimator_ # use optimal parameters from grid_search\n",
    "# clf = clf.fit(X_train, y_train)"
   ]
  },
  {
   "cell_type": "code",
   "execution_count": 34,
   "metadata": {},
   "outputs": [],
   "source": [
    "y_pred = clf.predict(X_test)"
   ]
  },
  {
   "cell_type": "code",
   "execution_count": 40,
   "metadata": {},
   "outputs": [
    {
     "name": "stdout",
     "output_type": "stream",
     "text": [
      "Mean Squared Error: 10.253291269914145\n",
      "R^2 Score: 0.8295861731145563\n"
     ]
    }
   ],
   "source": [
    "print(f'Mean Squared Error: {mean_squared_error(y_test, y_pred)}')\n",
    "print(f'R^2 Score: {r2_score(y_test, y_pred)}')"
   ]
  }
 ],
 "metadata": {
  "kernelspec": {
   "display_name": "wheretolive",
   "language": "python",
   "name": "wheretolive"
  },
  "language_info": {
   "codemirror_mode": {
    "name": "ipython",
    "version": 3
   },
   "file_extension": ".py",
   "mimetype": "text/x-python",
   "name": "python",
   "nbconvert_exporter": "python",
   "pygments_lexer": "ipython3",
   "version": "3.8.1"
  }
 },
 "nbformat": 4,
 "nbformat_minor": 4
}
